{
 "cells": [
  {
   "metadata": {},
   "cell_type": "markdown",
   "source": "## Testing the object insertion functions",
   "id": "cbd6f25448db169"
  },
  {
   "metadata": {},
   "cell_type": "code",
   "outputs": [],
   "execution_count": null,
   "source": [
    "import random\n",
    "import matplotlib.pyplot as plt\n",
    "import matplotlib.patches as patches\n",
    "import numpy as np"
   ],
   "id": "56dc084d0d6f2e4c"
  },
  {
   "metadata": {
    "collapsed": true,
    "ExecuteTime": {
     "end_time": "2025-04-04T09:36:49.744037Z",
     "start_time": "2025-04-04T09:36:49.628105Z"
    }
   },
   "cell_type": "code",
   "outputs": [
    {
     "data": {
      "text/plain": [
       "<Figure size 600x600 with 1 Axes>"
      ],
      "image/png": "[encoded data removed]"
     },
     "metadata": {},
     "output_type": "display_data"
    }
   ],
   "execution_count": 4,
   "source": [
    "def generate_random_bboxes(num_boxes, max_size=224, min_box_size=20, max_box_size=32):\n",
    "    \"\"\"\n",
    "    Generates a list of random bounding boxes within the given image size.\n",
    "\n",
    "    Args:\n",
    "        num_boxes (int): Number of bounding boxes to generate.\n",
    "        max_size (int): The size of the image (e.g., 224 for a 224x224 image).\n",
    "        min_box_size (int): Minimum width/height of a bounding box.\n",
    "        max_box_size (int): Maximum width/height of a bounding box.\n",
    "\n",
    "    Returns:\n",
    "        List of bounding boxes: [[x_min, y_min, x_max, y_max], ...]\n",
    "    \"\"\"\n",
    "    bboxes = []\n",
    "\n",
    "    for _ in range(num_boxes):\n",
    "        w = random.randint(min_box_size, max_box_size)\n",
    "        h = random.randint(min_box_size, max_box_size)\n",
    "\n",
    "        x_min = random.randint(0, max_size - w)\n",
    "        y_min = random.randint(0, max_size - h)\n",
    "\n",
    "        x_max = x_min + w\n",
    "        y_max = y_min + h\n",
    "\n",
    "        bboxes.append([x_min, y_min, x_max, y_max])\n",
    "\n",
    "    return bboxes\n",
    "\n",
    "test_bboxes = generate_random_bboxes(10)  # 10 random boxes within 224x224\n",
    "\n",
    "def plot_bboxes(bboxes, img_size=224):\n",
    "    fig, ax = plt.subplots(1, figsize=(6, 6))\n",
    "    ax.set_xlim([0, img_size])\n",
    "    ax.set_ylim([0, img_size])\n",
    "    ax.set_title(\"Generated Bounding Boxes\")\n",
    "    ax.invert_yaxis()  # Optional: to match image coordinate system\n",
    "\n",
    "    for box in bboxes:\n",
    "        x_min, y_min, x_max, y_max = box\n",
    "        rect = patches.Rectangle((x_min, y_min), x_max - x_min, y_max - y_min,\n",
    "                                 linewidth=2, edgecolor='r', facecolor='none')\n",
    "        ax.add_patch(rect)\n",
    "\n",
    "    plt.grid(True)\n",
    "    plt.show()\n",
    "plot_bboxes(test_bboxes)\n"
   ],
   "id": "initial_id"
  },
  {
   "metadata": {
    "ExecuteTime": {
     "end_time": "2025-04-04T09:42:41.544212Z",
     "start_time": "2025-04-04T09:42:41.537652Z"
    }
   },
   "cell_type": "code",
   "outputs": [
    {
     "name": "stdout",
     "output_type": "stream",
     "text": [
      "[125, 172, 138, 180] [138, 171, 164, 191]\n",
      "[49, 36, 72, 58] [22, 25, 44, 56]\n",
      "[171, 69, 181, 77] [186, 57, 207, 81]\n",
      "[133, 132, 141, 158] [142, 123, 164, 148]\n",
      "[129, 149, 156, 167] [152, 123, 183, 150]\n",
      "[85, 123, 107, 139] [109, 125, 138, 149]\n",
      "[21, 187, 49, 188] [1, 182, 24, 210]\n",
      "[141, 47, 164, 51] [169, 35, 195, 60]\n",
      "[100, 74, 117, 90] [111, 93, 141, 117]\n",
      "[169, 157, 187, 174] [145, 138, 169, 165]\n"
     ]
    }
   ],
   "execution_count": 8,
   "source": [
    "def locate_anchor(dst_bbox):\n",
    "    \"\"\"\n",
    "    Generates a new bounding box that is close to but does not overlap with the given bounding box.\n",
    "    The new bounding box may have a different size.\n",
    "\n",
    "    Args:\n",
    "        src_bbox (list): [x_min, y_min, x_max, y_max] representing the original bounding box.\n",
    "        min_distance (int): Minimum distance to move the new bounding box away.\n",
    "        max_distance (int): Maximum distance to move the new bounding box away.\n",
    "        size_variation (float): Maximum percentage by which the new box size can vary (e.g., 0.5 = ±50%).\n",
    "\n",
    "    Returns:\n",
    "        list: [x_min, y_min, x_max, y_max] for the new non-overlapping bounding box.\n",
    "    \"\"\"\n",
    "\n",
    "    obj_size = (random.randint(1, 32), random.randint(1, 32))\n",
    "\n",
    "    # Initialize minimum and maximum distance to move the new bounding box\n",
    "    min_distance = 0.2 * obj_size[0]\n",
    "    max_distance = 0.5 * obj_size[0]\n",
    "\n",
    "    # Calculate scaling factors\n",
    "    scale = 0.5\n",
    "\n",
    "    # Extract destination bounding box information\n",
    "    x_min, y_min, x_max, y_max = dst_bbox\n",
    "    center_x = (x_min + x_max) / 2\n",
    "    center_y = (y_min + y_max) / 2\n",
    "    width = x_max - x_min\n",
    "    height = y_max - y_min\n",
    "\n",
    "    for i in range(100):\n",
    "        # Compute diagonal distances (to ensure proper separation)\n",
    "        orig_diag = np.sqrt(width ** 2 + height ** 2) / 2\n",
    "\n",
    "        # Choose a random angle (0 to 360 degrees)\n",
    "        angle = random.uniform(0, 2 * np.pi)\n",
    "\n",
    "        # Ensure the distance is at least greater than the diagonal\n",
    "        min_safe_distance = orig_diag + min_distance\n",
    "        max_safe_distance = orig_diag + max_distance\n",
    "        distance = random.uniform(min_safe_distance, max_safe_distance)\n",
    "\n",
    "        # First scale the center to target space\n",
    "        center_x_scaled = center_x * scale\n",
    "        center_y_scaled = center_y * scale\n",
    "\n",
    "        # Then apply distance shift in target space\n",
    "        new_center_x = center_x + distance * np.cos(angle)\n",
    "        new_center_y = center_y + distance * np.sin(angle)\n",
    "\n",
    "        # Compute new bounding box coordinates\n",
    "        new_x_min = int(new_center_x - obj_size[0] / 2)\n",
    "        new_y_min = int(new_center_y - obj_size[1] / 2)\n",
    "        new_x_max = int(new_center_x + obj_size[0] / 2)\n",
    "        new_y_max = int(new_center_y + obj_size[1] / 2)\n",
    "\n",
    "        new_bbox = [new_x_min, new_y_min, new_x_max, new_y_max]\n",
    "\n",
    "        if min(new_bbox) > 20 and max(new_bbox) < (224 - 20):\n",
    "            final_bbox = new_bbox\n",
    "            return final_bbox\n",
    "\n",
    "    return None\n",
    "\n",
    "for box in test_bboxes:\n",
    "    anchor = locate_anchor(box)\n",
    "    print(anchor, box)"
   ],
   "id": "b94c8f84d5d45c0d"
  },
  {
   "metadata": {
    "ExecuteTime": {
     "end_time": "2025-04-04T10:09:58.266995Z",
     "start_time": "2025-04-04T10:09:58.143402Z"
    }
   },
   "cell_type": "code",
   "source": [
    "test_bboxes =[[194.25, 47.25, 201.6875, 53.8125], [196, 55, 203, 62]]\n",
    "plot_bboxes(test_bboxes)"
   ],
   "id": "a2f438f562293d26",
   "outputs": [
    {
     "data": {
      "text/plain": [
       "<Figure size 600x600 with 1 Axes>"
      ],
      "image/png": "[encoded data removed]"
     },
     "metadata": {},
     "output_type": "display_data"
    }
   ],
   "execution_count": 11
  },
  {
   "metadata": {},
   "cell_type": "code",
   "outputs": [],
   "execution_count": null,
   "source": "",
   "id": "ae003272f77d5e71"
  }
 ],
 "metadata": {
  "kernelspec": {
   "display_name": "Python 3",
   "language": "python",
   "name": "python3"
  },
  "language_info": {
   "codemirror_mode": {
    "name": "ipython",
    "version": 2
   },
   "file_extension": ".py",
   "mimetype": "text/x-python",
   "name": "python",
   "nbconvert_exporter": "python",
   "pygments_lexer": "ipython2",
   "version": "2.7.6"
  }
 },
 "nbformat": 4,
 "nbformat_minor": 5
}
