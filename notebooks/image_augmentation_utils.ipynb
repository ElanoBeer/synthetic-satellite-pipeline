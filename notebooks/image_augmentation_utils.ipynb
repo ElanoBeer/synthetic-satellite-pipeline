{
 "cells": [
  {
   "metadata": {},
   "cell_type": "markdown",
   "source": [
    "# Image Augmentation and Preprocessing Utilities\n",
    "This notebook provides utility functions for image preprocessing and augmentation commonly used in deep learning tasks.\n",
    "\n",
    "#"
   ],
   "id": "537f57d4781fa8c1"
  },
  {
   "metadata": {},
   "cell_type": "code",
   "outputs": [],
   "execution_count": null,
   "source": [
    "# Import necessary libraries\n",
    "import os\n",
    "import numpy as np\n",
    "from PIL import Image\n",
    "import albumentations as A\n",
    "import matplotlib.pyplot as plt\n",
    "\n",
    "#%"
   ],
   "id": "158c7dd03cf2a83a"
  },
  {
   "metadata": {},
   "cell_type": "markdown",
   "source": [
    "## Image Loading and Preprocessing\n",
    "\n",
    "#"
   ],
   "id": "3946d005e22e832"
  },
  {
   "metadata": {},
   "cell_type": "code",
   "outputs": [],
   "execution_count": null,
   "source": [
    "def load_and_preprocess_image(image_path, target_size=(224, 224)):\n",
    "    \"\"\"\n",
    "    Load and preprocess an image.\n",
    "\n",
    "    Args:\n",
    "        image_path (str): Path to the image file\n",
    "        target_size (tuple): Desired output size (width, height)\n",
    "\n",
    "    Returns:\n",
    "        PIL.Image: Preprocessed image\n",
    "    \"\"\"\n",
    "    # Load image\n",
    "    img = Image.open(image_path)\n",
    "\n",
    "    # Convert to RGB if necessary\n",
    "    if img.mode != 'RGB':\n",
    "        img = img.convert('RGB')\n",
    "\n",
    "    # Resize image\n",
    "    img = img.resize(target_size, Image.Resampling.LANCZOS)\n",
    "\n",
    "    return img\n",
    "\n",
    "def load_images_from_directory(directory_path, target_size=(224, 224)):\n",
    "    \"\"\"\n",
    "    Load all images from a directory and preprocess them.\n",
    "\n",
    "    Args:\n",
    "        directory_path (str): Path to the directory containing images\n",
    "        target_size (tuple): Desired output size (width, height)\n",
    "\n",
    "    Returns:\n",
    "        list: List of preprocessed images\n",
    "    \"\"\"\n",
    "    images = []\n",
    "    valid_extensions = {'.jpg', '.jpeg', '.png', '.bmp'}\n",
    "\n",
    "    for filename in os.listdir(directory_path):\n",
    "        if os.path.splitext(filename)[1].lower() in valid_extensions:\n",
    "            image_path = os.path.join(directory_path, filename)\n",
    "            try:\n",
    "                img = load_and_preprocess_image(image_path, target_size)\n",
    "                images.append(img)\n",
    "            except Exception as e:\n",
    "                print(f\"Error loading {filename}: {str(e)}\")\n",
    "\n",
    "    return images\n",
    "\n",
    "#%"
   ],
   "id": "29e4c37117345e5d"
  },
  {
   "metadata": {},
   "cell_type": "markdown",
   "source": "## Image Augmentation Functions",
   "id": "d7a8a283ec02d9e2"
  },
  {
   "metadata": {},
   "cell_type": "code",
   "outputs": [],
   "execution_count": null,
   "source": [
    "class BasicAugmenter:\n",
    "    def __init__(self, p=0.5):\n",
    "        \"\"\"\n",
    "        Initialize the augmentation pipeline.\n",
    "\n",
    "        Args:\n",
    "            p (float): Probability of applying each augmentation\n",
    "        \"\"\"\n",
    "        self.transform = A.Compose([\n",
    "            A.HorizontalFlip(p=p),\n",
    "            A.RandomRotate90(p=p),\n",
    "            A.VerticalFlip(p=p),\n",
    "            A.RandomBrightnessContrast(p=p),\n",
    "            A.RandomCrop(height=178, width=178, p=p),\n",
    "            A.HueSaturationValue(p=p),\n",
    "            A.GaussNoise(p=p)\n",
    "        ])\n",
    "\n",
    "    def augment(self, image):\n",
    "        \"\"\"\n",
    "        Apply augmentations to an image.\n",
    "\n",
    "        Args:\n",
    "            image (PIL.Image): Input image\n",
    "\n",
    "        Returns:\n",
    "            PIL.Image: Augmented image\n",
    "        \"\"\"\n",
    "        # Convert PIL image to numpy array\n",
    "        image_np = np.array(image)\n",
    "\n",
    "        # Apply augmentations\n",
    "        augmented = self.transform(image=image_np)['image']\n",
    "\n",
    "        # Convert back to PIL image\n",
    "        return Image.fromarray(augmented)"
   ],
   "id": "84754139a479b3b0"
  },
  {
   "metadata": {},
   "cell_type": "markdown",
   "source": "## Example Usage",
   "id": "421fb054d2e77a0a"
  },
  {
   "metadata": {},
   "cell_type": "code",
   "outputs": [],
   "execution_count": null,
   "source": [
    "def display_augmentations(image, n_examples=5):\n",
    "    \"\"\"\n",
    "    Display original image and multiple augmented versions.\n",
    "\n",
    "    Args:\n",
    "        image (PIL.Image): Input image\n",
    "        n_examples (int): Number of augmented examples to show\n",
    "    \"\"\"\n",
    "    augmenter = BasicAugmenter(p=0.7)\n",
    "\n",
    "    plt.figure(figsize=(15, 3))\n",
    "\n",
    "    # Display original image\n",
    "    plt.subplot(1, n_examples + 1, 1)\n",
    "    plt.imshow(image)\n",
    "    plt.title('Original')\n",
    "    plt.axis('off')\n",
    "\n",
    "    # Display augmented versions\n",
    "    for i in range(n_examples):\n",
    "        augmented_image = augmenter.augment(image)\n",
    "        plt.subplot(1, n_examples + 1, i + 2)\n",
    "        plt.imshow(augmented_image)\n",
    "        plt.title(f'Augmented {i+1}')\n",
    "        plt.axis('off')\n",
    "\n",
    "    plt.tight_layout()\n",
    "    plt.show()\n",
    "\n",
    "#%"
   ],
   "id": "1767d150f35d997b"
  },
  {
   "metadata": {},
   "cell_type": "markdown",
   "source": [
    "## Example: Load and augment a single image\n",
    "To use this code, replace 'path_to_your_image.jpg' with the path to your image:\n",
    "\n",
    "#"
   ],
   "id": "d8c49a5390be636a"
  },
  {
   "metadata": {},
   "cell_type": "code",
   "outputs": [],
   "execution_count": null,
   "source": [
    "# Example usage (commented out - replace with your image path)\n",
    "\"\"\"\n",
    "# Load and preprocess a single image\n",
    "image = load_and_preprocess_image('path_to_your_image.jpg')\n",
    "\n",
    "# Display original and augmented versions\n",
    "display_augmentations(image)\n",
    "\n",
    "# Load multiple images from a directory\n",
    "images = load_images_from_directory('path_to_your_image_directory')\n",
    "\"\"\""
   ],
   "id": "afad0e6fd35db498"
  }
 ],
 "metadata": {
  "kernelspec": {
   "display_name": "Python 3",
   "language": "python",
   "name": "python3"
  },
  "language_info": {
   "codemirror_mode": {
    "name": "ipython",
    "version": 2
   },
   "file_extension": ".py",
   "mimetype": "text/x-python",
   "name": "python",
   "nbconvert_exporter": "python",
   "pygments_lexer": "ipython2",
   "version": "2.7.6"
  }
 },
 "nbformat": 4,
 "nbformat_minor": 5
}
